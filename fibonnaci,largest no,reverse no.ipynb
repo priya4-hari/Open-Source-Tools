{
  "nbformat": 4,
  "nbformat_minor": 0,
  "metadata": {
    "colab": {
      "name": "1818124_OST LAB_EXP2.ipynb",
      "provenance": [],
      "authorship_tag": "ABX9TyObz4kZve10qXaAU/6B6uMn",
      "include_colab_link": true
    },
    "kernelspec": {
      "name": "python3",
      "display_name": "Python 3"
    }
  },
  "cells": [
    {
      "cell_type": "markdown",
      "metadata": {
        "id": "view-in-github",
        "colab_type": "text"
      },
      "source": [
        "<a href=\"https://colab.research.google.com/github/priya4-hari/Open-Source-Tools/blob/main/fibonnaci%2Clargest%20no%2Creverse%20no.ipynb\" target=\"_parent\"><img src=\"https://colab.research.google.com/assets/colab-badge.svg\" alt=\"Open In Colab\"/></a>"
      ]
    },
    {
      "cell_type": "markdown",
      "metadata": {
        "id": "ys9pJRZ_aAvg"
      },
      "source": [
        "**2 B)PRINTING THE FIBONACCI SEQUENCE**"
      ]
    },
    {
      "cell_type": "code",
      "metadata": {
        "colab": {
          "base_uri": "https://localhost:8080/"
        },
        "id": "3l0WgjzeU4-N",
        "outputId": "4579456c-6200-4a56-d7cb-42643ec83466"
      },
      "source": [
        "n=int(input(\"Enter the number:\"))\r\n",
        "a=0\r\n",
        "b=1\r\n",
        "count=0\r\n",
        "print(\"Fibonacci series is:\")\r\n",
        "if n>=1:\r\n",
        "  while count<n:\r\n",
        "    print(a)\r\n",
        "    c=a+b\r\n",
        "    a=b\r\n",
        "    b=c\r\n",
        "    count+=1\r\n",
        "else:\r\n",
        "  print(\"Invalid input\")"
      ],
      "execution_count": null,
      "outputs": [
        {
          "output_type": "stream",
          "text": [
            "Enter the number:10\n",
            "Fibonacci series is:\n",
            "0\n",
            "1\n",
            "1\n",
            "2\n",
            "3\n",
            "5\n",
            "8\n",
            "13\n",
            "21\n",
            "34\n"
          ],
          "name": "stdout"
        }
      ]
    },
    {
      "cell_type": "code",
      "metadata": {
        "colab": {
          "base_uri": "https://localhost:8080/"
        },
        "id": "4-Zu161IU_0O",
        "outputId": "2dd06ea8-a846-4b2f-81cd-610625b1473e"
      },
      "source": [
        "number=int(input(\"enter the number to be reversed:\"))\r\n",
        "rev=0\r\n",
        "while number>0:\r\n",
        "  rem=number%10\r\n",
        "  rev=(rev*10)+rem\r\n",
        "  number=number//10\r\n",
        "print(\"The reversed number is\",rev)"
      ],
      "execution_count": null,
      "outputs": [
        {
          "output_type": "stream",
          "text": [
            "enter the number to be reversed:3426\n",
            "The reversed number is 6243\n"
          ],
          "name": "stdout"
        }
      ]
    },
    {
      "cell_type": "markdown",
      "metadata": {
        "id": "79vXQjyoaYfo"
      },
      "source": [
        "**2 A)FINDING THE LARGEST AMONG THREE NUMBERS**"
      ]
    },
    {
      "cell_type": "code",
      "metadata": {
        "colab": {
          "base_uri": "https://localhost:8080/"
        },
        "id": "2nN0wQxMVCI7",
        "outputId": "39bf86c3-c7d1-4c70-8e78-e47e4e52ad21"
      },
      "source": [
        "a=input(\"enter the first number:\")\r\n",
        "b=input(\"enter the second number:\")\r\n",
        "c=input(\"enter the third number:\")\r\n",
        "if a>b and a>c:\r\n",
        "  print(\"The largest element is \",a)\r\n",
        "elif b>a and b>c:\r\n",
        "  print(\"The largest number is \",b )\r\n",
        "else:\r\n",
        "  print(\"The largest element is \",c)"
      ],
      "execution_count": null,
      "outputs": [
        {
          "output_type": "stream",
          "text": [
            "enter the first number:4\n",
            "enter the second number:6\n",
            "enter the third number:-1\n",
            "The largest number is  6\n"
          ],
          "name": "stdout"
        }
      ]
    },
    {
      "cell_type": "markdown",
      "metadata": {
        "id": "Z5BS9XPCa6xF"
      },
      "source": [
        "**2 C)REVERSING THE GIVEN NUMBERS**"
      ]
    },
    {
      "cell_type": "code",
      "metadata": {
        "colab": {
          "base_uri": "https://localhost:8080/"
        },
        "id": "qH16Qy_Sazgc",
        "outputId": "9fc7e448-aeb1-4779-994c-bb48a79e0978"
      },
      "source": [
        "number=int(input(\"enter the number to be reversed:\"))\r\n",
        "rev=0\r\n",
        "while number>0:\r\n",
        "  rem=number%10\r\n",
        "  rev=(rev*10)+rem\r\n",
        "  number=number//10\r\n",
        "print(\"The reversed number is\",rev)"
      ],
      "execution_count": null,
      "outputs": [
        {
          "output_type": "stream",
          "text": [
            "enter the number to be reversed:3487\n",
            "The reversed number is 7843\n"
          ],
          "name": "stdout"
        }
      ]
    }
  ]
}