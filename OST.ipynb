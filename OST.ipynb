{
  "nbformat": 4,
  "nbformat_minor": 0,
  "metadata": {
    "colab": {
      "name": "1818124_OST LAB_EXP1.ipynb",
      "provenance": [],
      "authorship_tag": "ABX9TyMs9wpBL3y99+9Jp2yrVDOO",
      "include_colab_link": true
    },
    "kernelspec": {
      "name": "python3",
      "display_name": "Python 3"
    }
  },
  "cells": [
    {
      "cell_type": "markdown",
      "metadata": {
        "id": "view-in-github",
        "colab_type": "text"
      },
      "source": [
        "<a href=\"https://colab.research.google.com/github/priya4-hari/Open-Source-Tools/blob/main/OST.ipynb\" target=\"_parent\"><img src=\"https://colab.research.google.com/assets/colab-badge.svg\" alt=\"Open In Colab\"/></a>"
      ]
    },
    {
      "cell_type": "markdown",
      "metadata": {
        "id": "Q0OI1vR2Y3TW"
      },
      "source": [
        "**1 B)IMPLEMENTATION OF STACK USING ARRAY**"
      ]
    },
    {
      "cell_type": "code",
      "metadata": {
        "colab": {
          "base_uri": "https://localhost:8080/"
        },
        "id": "bF3NTxOuXBYb",
        "outputId": "ef3ccf7e-61c5-426c-8e76-e26e0629dd6b"
      },
      "source": [
        "A=[]\r\n",
        "count=0\r\n",
        "print(\"Choose any following operation:\\n1.Push\\n2.Pop\\n3.Top\")\r\n",
        "x=1\r\n",
        "while x==1:\r\n",
        "  option=int(input(\"Enter the choice:\"))\r\n",
        "  if option==1:\r\n",
        "    element=int(input(\"Enter the element to be pushed:\"))\r\n",
        "    count+=1\r\n",
        "    A.append(element)\r\n",
        "  elif option==2:\r\n",
        "    if count==0:\r\n",
        "      print(\"It is empty.Can't be deleted.\") \r\n",
        "    else:\r\n",
        "      print(\"Deleted element is\",A[count-1])\r\n",
        "      count-=1\r\n",
        "      A.pop()\r\n",
        "  elif option==3:\r\n",
        "    if count==0:\r\n",
        "      print(\"The list is empty\")\r\n",
        "    else:\r\n",
        "      print(\"Top of the stack:\",A[count-1])\r\n",
        "  else:\r\n",
        "    print(\"Error!!! The choice is invalid\") \r\n",
        "  x=int(input(\"Press 1 to continue...\"))\r\n",
        "print(\"The process completed\")"
      ],
      "execution_count": null,
      "outputs": [
        {
          "output_type": "stream",
          "text": [
            "Choose any following operation:\n",
            "1.Push\n",
            "2.Pop\n",
            "3.Top\n",
            "Enter the choice:1\n",
            "Enter the element to be pushed:3\n",
            "Press 1 to continue...1\n",
            "Enter the choice:1\n",
            "Enter the element to be pushed:6\n",
            "Press 1 to continue...1\n",
            "Enter the choice:1\n",
            "Enter the element to be pushed:9\n",
            "Press 1 to continue...1\n",
            "Enter the choice:2\n",
            "Deleted element is 9\n",
            "Press 1 to continue...1\n",
            "Enter the choice:3\n",
            "Top of the stack: 6\n",
            "Press 1 to continue...-1\n",
            "The process completed\n"
          ],
          "name": "stdout"
        }
      ]
    },
    {
      "cell_type": "markdown",
      "metadata": {
        "id": "LsG17K14Ym4x"
      },
      "source": [
        "**1 C)CONVERTING CELCIUS INTO FAHRENHEIT**"
      ]
    },
    {
      "cell_type": "code",
      "metadata": {
        "colab": {
          "base_uri": "https://localhost:8080/"
        },
        "id": "-d56fY4PX5HD",
        "outputId": "9d324db3-d554-49d7-f240-7735b06d8f7a"
      },
      "source": [
        "celcius=int(input(\"enter celius value\"))\r\n",
        "fahrenheit=celcius*1.8+32\r\n",
        "print(\"Fahrenheit = \",fahrenheit)"
      ],
      "execution_count": null,
      "outputs": [
        {
          "output_type": "stream",
          "text": [
            "enter celius value48\n",
            "Fahrenheit =  118.4\n"
          ],
          "name": "stdout"
        }
      ]
    },
    {
      "cell_type": "code",
      "metadata": {
        "id": "k6Pes_tgZqTn"
      },
      "source": [
        ""
      ],
      "execution_count": null,
      "outputs": []
    },
    {
      "cell_type": "markdown",
      "metadata": {
        "id": "SZMUAYE9Yc2r"
      },
      "source": [
        "**1 A)SIMPLE CALCULATOR USING PYTHON PROGRAMMING**"
      ]
    },
    {
      "cell_type": "code",
      "metadata": {
        "colab": {
          "base_uri": "https://localhost:8080/"
        },
        "id": "BR_wM5r-YBRv",
        "outputId": "9af99ab7-2bec-4a70-febf-ce054ad37767"
      },
      "source": [
        "a=int(input(\"Enter the 1st number:\"))\r\n",
        "b=int(input(\"Enter the 2nd number:\"))\r\n",
        "print(\"1.Addition\\n2.Subtraction\\n3.Multiplication\\n4.Division\")\r\n",
        "n=1\r\n",
        "while n==1:\r\n",
        "  choice=int(input(\"Enter the number that to be performed:\"))\r\n",
        "  if choice==1:\r\n",
        "    print(\"The value after addition is\",a+b)\r\n",
        "  elif choice==2:\r\n",
        "    print(\"The value after subtraction is\",a-b)\r\n",
        "  elif choice==3:\r\n",
        "    print(\"The value after multiplication is\",a*b)\r\n",
        "  elif choice==4:\r\n",
        "    print(\"The value after division is\",a//b)\r\n",
        "  else:\r\n",
        "    print(\"Error!!! The choice is not defined\")\r\n",
        "  n=int(input(\"Press 1 to continue...\"))\r\n",
        "print(\"The process completed!!\")"
      ],
      "execution_count": null,
      "outputs": [
        {
          "output_type": "stream",
          "text": [
            "Enter the 1st number:15\n",
            "Enter the 2nd number:3\n",
            "1.Addition\n",
            "2.Subtraction\n",
            "3.Multiplication\n",
            "4.Division\n",
            "Enter the number that to be performed:1\n",
            "The value after addition is 18\n",
            "Press 1 to continue...1\n",
            "Enter the number that to be performed:2\n",
            "The value after subtraction is 12\n",
            "Press 1 to continue...1\n",
            "Enter the number that to be performed:3\n",
            "The value after multiplication is 45\n",
            "Press 1 to continue...1\n",
            "Enter the number that to be performed:4\n",
            "The value after division is 5\n",
            "Press 1 to continue...1\n",
            "Enter the number that to be performed:5\n",
            "Error!!! The choice is not defined\n",
            "Press 1 to continue...-1\n",
            "The process completed!!\n"
          ],
          "name": "stdout"
        }
      ]
    },
    {
      "cell_type": "markdown",
      "metadata": {
        "id": "l3PbCSjDZw6k"
      },
      "source": [
        "**1 C)CONVERTING CELCIUS INTO FAHRENHEIT**"
      ]
    },
    {
      "cell_type": "code",
      "metadata": {
        "colab": {
          "base_uri": "https://localhost:8080/"
        },
        "id": "fUSRCG4PZs32",
        "outputId": "ca12896e-d907-430c-b40e-c7eaa51770ab"
      },
      "source": [
        "celcius=int(input(\"enter celius value\"))\r\n",
        "fahrenheit=celcius*1.8+32\r\n",
        "print(\"Fahrenheit = \",fahrenheit)"
      ],
      "execution_count": null,
      "outputs": [
        {
          "output_type": "stream",
          "text": [
            "enter celius value45\n",
            "Fahrenheit =  113.0\n"
          ],
          "name": "stdout"
        }
      ]
    }
  ]
}